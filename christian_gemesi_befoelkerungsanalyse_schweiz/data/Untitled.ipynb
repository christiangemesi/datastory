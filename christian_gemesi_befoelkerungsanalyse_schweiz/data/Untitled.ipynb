{
 "cells": [
  {
   "cell_type": "code",
   "execution_count": 10,
   "id": "9c711291-6869-4c7e-8a3a-ff58379e2097",
   "metadata": {},
   "outputs": [
    {
     "name": "stdout",
     "output_type": "stream",
     "text": [
      "changing directory to raw\n",
      "opening zip file\n",
      "unzipping file\n",
      "deleting Suisse.xls\n",
      "deleting Grossregionen\n",
      "removing initial zip file\n",
      "AG-neu.csv created\n",
      "AI-neu.csv created\n",
      "AR-neu.csv created\n",
      "BE-neu.csv created\n",
      "BL-neu.csv created\n",
      "BS-neu.csv created\n",
      "FR-neu.csv created\n",
      "GE-neu.csv created\n",
      "GL-neu.csv created\n",
      "GR-neu.csv created\n",
      "JU-neu.csv created\n",
      "LU-neu.csv created\n",
      "NE-neu.csv created\n",
      "NW-neu.csv created\n",
      "OW-neu.csv created\n",
      "SG-neu.csv created\n",
      "SH-neu.csv created\n",
      "SO-neu.csv created\n",
      "SZ-neu.csv created\n",
      "TG-neu.csv created\n",
      "TI-neu.csv created\n",
      "UR-neu.csv created\n",
      "VD-neu.csv created\n",
      "VS-neu.csv created\n",
      "ZG-neu.csv created\n",
      "ZH-neu.csv created\n",
      "changing directory to /data\n"
     ]
    }
   ],
   "source": [
    "%run fetch_data.py"
   ]
  },
  {
   "cell_type": "code",
   "execution_count": 3,
   "id": "a3e581a6-3298-4586-b839-44ee352a099e",
   "metadata": {},
   "outputs": [],
   "source": []
  },
  {
   "cell_type": "code",
   "execution_count": null,
   "id": "1e114e90-81e4-43c3-b0a4-b10becf583dc",
   "metadata": {},
   "outputs": [],
   "source": []
  }
 ],
 "metadata": {
  "kernelspec": {
   "display_name": "Python 3 (ipykernel)",
   "language": "python",
   "name": "python3"
  },
  "language_info": {
   "codemirror_mode": {
    "name": "ipython",
    "version": 3
   },
   "file_extension": ".py",
   "mimetype": "text/x-python",
   "name": "python",
   "nbconvert_exporter": "python",
   "pygments_lexer": "ipython3",
   "version": "3.9.6"
  }
 },
 "nbformat": 4,
 "nbformat_minor": 5
}
